{
 "cells": [
  {
   "cell_type": "markdown",
   "metadata": {
    "id": "QrEWcYg0suvp"
   },
   "source": [
    "#**TL;DR**\n",
    "\n",
    "**Collaborators: Shoval Benjer, Adir Amar**\n",
    "\n",
    "This project demonstrates clustering analysis on FIFA player data using Apache Spark. It includes steps to preprocess data, apply feature transformations, find optimal clustering parameters, and visualize clusters with PCA.\n",
    "\n",
    "\n"
   ]
  },
  {
   "cell_type": "markdown",
   "metadata": {
    "id": "xgSOce1_snEB"
   },
   "source": [
    "#**Setup**\n",
    "\n",
    "**System Requirements:**\n",
    "\n",
    "    Operating System: Linux-based environment (recommended for compatibility) or Windows with WSL2.\n",
    "\n",
    "Software:\n",
    "    Python 3.8+, Java 8 (OpenJDK 8), and Apache Spark.\n",
    "\n",
    "Libraries:\n",
    "\n",
    "    pyspark, kafka-python, threading, and json.\n",
    "\n",
    "Environment Setup:\n",
    "\n",
    "**Google Colab is Recommended for running the notebook.**\n",
    "\n",
    "Local System: Ensure you have Apache Spark and Kafka installed with appropriate environment variables configured.\n",
    "\n",
    "\n",
    "Description for Each Step:\n",
    "\n",
    "      Install Java:\n",
    "      This command installs the OpenJDK 8 runtime environment, a necessary dependency for running Apache Spark and Kafka. The -qq flag minimizes output during the installation process.\n",
    "\n",
    "      Download Apache Spark:\n",
    "      Downloads Apache Spark version 3.5.0 with Hadoop 3 compatibility from the official Apache archives. Spark is a distributed computing framework essential for big data processing tasks.\n",
    "\n",
    "      Verify the Spark Download:\n",
    "      Lists the downloaded Spark tarball to confirm that the file has been successfully downloaded.\n",
    "\n",
    "      Extract the Spark Archive:\n",
    "      Unpacks the Spark tarball to make the Spark distribution files accessible for configuration and usage.\n",
    "\n",
    "      Move Spark to the Local Directory:\n",
    "      Moves the extracted Spark directory to /usr/local/spark, setting a standard location for Spark installation, simplifying environment variable configuration.\n",
    "\n",
    "      Download Apache Kafka:\n",
    "      Downloads Apache Kafka version 3.5.1 (Scala version 2.13), a distributed event-streaming platform commonly used for real-time data pipelines and streaming applications.\n",
    "\n",
    "      Verify the Kafka Download:\n",
    "      Lists the downloaded Kafka tarball to ensure successful file retrieval.\n",
    "\n",
    "      Extract the Kafka Archive:\n",
    "      Unpacks the Kafka tarball to access its binaries and configuration files.\n",
    "\n",
    "      Move Kafka to the Local Directory:\n",
    "      Moves the extracted Kafka directory to /usr/local/kafka for organized setup and easier configuration.\n",
    "\n",
    "      Set Environment Variables:\n",
    "      Configures environment variables for Java, Spark, and Kafka to ensure their executables can be accessed system-wide. This includes updating the PATH variable for seamless command-line operations.\n",
    "\n",
    "      Install Python Libraries:\n",
    "      Installs pyspark for interacting with Spark using Python and kafka-python for Kafka integration within Python applications.\n",
    "\n",
    "      Start Zookeeper:\n",
    "      Launches Zookeeper, a centralized service used by Kafka for managing distributed systems. It provides configuration synchronization and group services for Kafka brokers.\n",
    "\n",
    "      Start Kafka Broker:\n",
    "      Starts the Kafka broker service, which handles message queuing, storage, and distribution to clients in a publish-subscribe model."
   ]
  },
  {
   "cell_type": "markdown",
   "metadata": {
    "id": "89GHgG2n2doi"
   },
   "source": [
    "#Setup, and Load"
   ]
  },
  {
   "cell_type": "code",
   "execution_count": 1,
   "metadata": {
    "id": "MSAW59m51gr0"
   },
   "outputs": [
    {
     "name": "stdout",
     "output_type": "stream",
     "text": [
      "25/01/11 21:18:20 WARN SparkSession: Using an existing Spark session; only runtime SQL configurations will take effect.\n"
     ]
    }
   ],
   "source": [
    "\"\"\"\n",
    "2) IMPORTS & SPARK SESSION\n",
    "All required libraries, including Spark and matplotlib.\n",
    "\"\"\"\n",
    "from pyspark.sql import SparkSession\n",
    "from pyspark.sql.functions import desc, col, regexp_replace\n",
    "from pyspark.sql.types import DoubleType\n",
    "import pyspark.sql.functions as F\n",
    "from pyspark.ml import Pipeline\n",
    "from pyspark.ml.feature import VectorAssembler, StandardScaler, PCA\n",
    "from pyspark.ml.clustering import KMeans\n",
    "from pyspark.ml.evaluation import ClusteringEvaluator\n",
    "import matplotlib.pyplot as plt\n",
    "spark = SparkSession.builder.appName(\"FIFA_ClusteringClean\").getOrCreate()"
   ]
  },
  {
   "cell_type": "code",
   "execution_count": 2,
   "metadata": {
    "id": "6Cl494mX0-Lj"
   },
   "outputs": [],
   "source": [
    "def load_data(file_path):\n",
    "    \"\"\"\n",
    "    Loads the FIFA data from a CSV file into a Spark DataFrame.\n",
    "    Parameters:\n",
    "        file_path (str): The path to the CSV file.\n",
    "    Returns:\n",
    "        DataFrame: Spark DataFrame containing the FIFA data.\n",
    "    \"\"\"\n",
    "    df = spark.read.option(\"header\", True).option(\"inferSchema\", True).csv(file_path)\n",
    "    return df"
   ]
  },
  {
   "cell_type": "code",
   "execution_count": 3,
   "metadata": {
    "id": "qrK5N01f1df5"
   },
   "outputs": [],
   "source": [
    "def create_salary_column(df):\n",
    "    \"\"\"\n",
    "    Cleans 'Wage' (e.g., '€565K') to create a numeric 'Salary' column.\n",
    "     - Removes '€'\n",
    "     - Removes 'K'\n",
    "     - Casts to double\n",
    "    Parameters:\n",
    "        df (DataFrame): The source DataFrame with 'Wage' as string.\n",
    "    Returns:\n",
    "        DataFrame: A new DataFrame with an extra numeric 'Salary' column.\n",
    "    \"\"\"\n",
    "    temp = df.withColumn(\"Salary\", regexp_replace(col(\"Wage\"), \"€\", \"\"))\n",
    "    temp = temp.withColumn(\"Salary\", regexp_replace(col(\"Salary\"), \"K\", \"\"))\n",
    "    temp = temp.withColumn(\"Salary\", col(\"Salary\").cast(\"double\"))\n",
    "    return temp\n"
   ]
  },
  {
   "cell_type": "code",
   "execution_count": 4,
   "metadata": {
    "id": "hdJs861p1y9Q"
   },
   "outputs": [],
   "source": [
    "def create_value_column(df):\n",
    "    \"\"\"\n",
    "    Cleans 'Value' (e.g., '€110.5M', '€405K', etc.) to make it numeric in the 'Value' column.\n",
    "    Steps:\n",
    "     - Removes '€'\n",
    "     - Strips out weird null or non-ASCII chars\n",
    "     - Handles 'M' (millions) or 'K' (thousands)\n",
    "     - Overwrites the old 'Value' column with a numeric double\n",
    "       (i.e., the column name stays 'Value', but now it's numeric)\n",
    "\n",
    "    Parameters:\n",
    "        df (DataFrame): Source DataFrame with 'Value' as string.\n",
    "    Returns:\n",
    "        DataFrame: A new DataFrame where 'Value' is numeric.\n",
    "    \"\"\"\n",
    "    # Remove \"€\"\n",
    "    temp = df.withColumn(\"Value\", regexp_replace(col(\"Value\"), \"€\", \"\"))\n",
    "\n",
    "    # UDF to parse\n",
    "    def parse_value(str_val):\n",
    "        if not str_val:\n",
    "            return None\n",
    "        # Clean out non-ASCII\n",
    "        cleaned = \"\".join(ch for ch in str_val.strip() if 32 <= ord(ch) <= 126)\n",
    "        if not cleaned:\n",
    "            return None\n",
    "        cleaned = cleaned.upper()\n",
    "        if cleaned.endswith(\"M\"):\n",
    "            try:\n",
    "                return float(cleaned[:-1]) * 1e6\n",
    "            except ValueError:\n",
    "                return None\n",
    "        elif cleaned.endswith(\"K\"):\n",
    "            try:\n",
    "                return float(cleaned[:-1]) * 1e3\n",
    "            except ValueError:\n",
    "                return None\n",
    "        else:\n",
    "            try:\n",
    "                return float(cleaned)\n",
    "            except ValueError:\n",
    "                return None\n",
    "\n",
    "    parse_value_udf = F.udf(parse_value, DoubleType())\n",
    "    temp = temp.withColumn(\"Value\", parse_value_udf(col(\"Value\")))\n",
    "    return temp"
   ]
  },
  {
   "cell_type": "code",
   "execution_count": 5,
   "metadata": {
    "id": "3SP8aMMARiC8"
   },
   "outputs": [],
   "source": [
    "def define_feature_management():\n",
    "    \"\"\"\n",
    "    Defines the numeric columns we want to cluster on.\n",
    "    We have:\n",
    "        Age\n",
    "        Overall\n",
    "        Potential\n",
    "        Salary (cleaned from 'Wage')\n",
    "        Value  (cleaned from original 'Value')\n",
    "    \"\"\"\n",
    "    return [\n",
    "        (\"Age\", \"Numerical\", \"Use as-is or scale\", \"Example: Age=31 -> scaled=0.45\"),\n",
    "        (\"Overall\", \"Numerical\", \"Use as-is or scale\", \"Example: Overall=94 -> scaled=0.90\"),\n",
    "        (\"Potential\", \"Numerical\", \"Use as-is or scale\", \"Example: Potential=94 -> scaled=0.90\"),\n",
    "        (\"Salary\", \"Numerical\", \"Use as-is or scale\", \"Example: €565K -> 565 -> scaled=0.40\"),\n",
    "        (\"Value\", \"Numerical\", \"Use as-is or scale\", \"Example: €110.5M -> 110500000 -> scaled=1.0\"),\n",
    "    ]"
   ]
  },
  {
   "cell_type": "code",
   "execution_count": 6,
   "metadata": {
    "id": "mn1No_7o11zR"
   },
   "outputs": [],
   "source": [
    "def print_feature_table(feature_management):\n",
    "    \"\"\"\n",
    "    Prints a table that shows how each feature is being managed.\n",
    "    \"\"\"\n",
    "    print(\"Column name | Feature type | Way to manage a feature | Example\")\n",
    "    for col_name, f_type, method, ex in feature_management:\n",
    "        print(f\"{col_name}\\t{f_type}\\t{method}\\t{ex}\")"
   ]
  },
  {
   "cell_type": "code",
   "execution_count": 7,
   "metadata": {
    "id": "hdGReazL15EZ"
   },
   "outputs": [],
   "source": [
    "def get_top_10_players_by_salary(df, salary_col=\"Salary\"):\n",
    "    \"\"\"\n",
    "    Returns the top 10 players by numeric salary in descending order.\n",
    "    \"\"\"\n",
    "    top_10_df = df.orderBy(desc(salary_col)).limit(10)\n",
    "    return top_10_df.collect()"
   ]
  },
  {
   "cell_type": "code",
   "execution_count": 8,
   "metadata": {
    "id": "NQetBn_b16_q"
   },
   "outputs": [],
   "source": [
    "def build_feature_pipeline(df, feature_cols, k):\n",
    "    \"\"\"\n",
    "    Builds a pipeline:\n",
    "      (1) VectorAssembler -> 'assembledFeatures'\n",
    "      (2) StandardScaler  -> 'scaledFeatures'\n",
    "      (3) KMeans -> 'clusterPrediction'\n",
    "    Returns:\n",
    "      - The fitted pipeline model\n",
    "      - The transformed DataFrame (with cluster predictions)\n",
    "    \"\"\"\n",
    "    # First, cache the filtered DataFrame to ensure consistent partitioning\n",
    "    filtered_df = df.na.drop(subset=feature_cols).cache()\n",
    "\n",
    "    # Repartition to ensure consistent partition sizes\n",
    "    filtered_df = filtered_df.repartition(10)  # You can adjust the number based on your data size\n",
    "\n",
    "    assembler = VectorAssembler(\n",
    "        inputCols=feature_cols,\n",
    "        outputCol=\"assembledFeatures\"\n",
    "    )\n",
    "\n",
    "    scaler = StandardScaler(\n",
    "        inputCol=\"assembledFeatures\",\n",
    "        outputCol=\"scaledFeatures\",\n",
    "        withMean=True,\n",
    "        withStd=True\n",
    "    )\n",
    "\n",
    "    kmeans = KMeans(\n",
    "        k=k,\n",
    "        featuresCol=\"scaledFeatures\",\n",
    "        predictionCol=\"clusterPrediction\",\n",
    "        seed=42,\n",
    "        maxIter=20  # Added to ensure convergence\n",
    "    )\n",
    "\n",
    "    pipeline = Pipeline(stages=[assembler, scaler, kmeans])\n",
    "\n",
    "    try:\n",
    "        model = pipeline.fit(filtered_df)\n",
    "        transformed_df = model.transform(filtered_df)\n",
    "        filtered_df.unpersist()  # Clean up cached data\n",
    "        return model, transformed_df\n",
    "    except Exception as e:\n",
    "        filtered_df.unpersist()  # Ensure cleanup even if error occurs\n",
    "        raise e"
   ]
  },
  {
   "cell_type": "code",
   "execution_count": 9,
   "metadata": {
    "id": "oEzy1KhI2CQQ"
   },
   "outputs": [],
   "source": [
    "def find_optimal_clusters(df, feature_cols, min_k=2, max_k=8):\n",
    "    \"\"\"\n",
    "    Loops over k in [min_k, max_k], builds pipeline, evaluates\n",
    "    with Silhouette, picks best k.\n",
    "    Returns (best_k, best_score).\n",
    "    \"\"\"\n",
    "    best_k, best_score = None, -1\n",
    "\n",
    "    # Cache the filtered DataFrame to avoid recomputing\n",
    "    filtered_df = df.na.drop(subset=feature_cols).cache()\n",
    "    filtered_df = filtered_df.repartition(10)  # Consistent partitioning\n",
    "\n",
    "    evaluator = ClusteringEvaluator(\n",
    "        predictionCol=\"clusterPrediction\",\n",
    "        featuresCol=\"scaledFeatures\",\n",
    "        metricName=\"silhouette\"\n",
    "    )\n",
    "\n",
    "    try:\n",
    "        for k in range(min_k, max_k + 1):\n",
    "            print(f\"Testing k={k}...\")  # Added for debugging\n",
    "            model, tdf = build_feature_pipeline(filtered_df, feature_cols, k)\n",
    "            sil = evaluator.evaluate(tdf)\n",
    "            print(f\"Silhouette score for k={k}: {sil}\")  # Added for debugging\n",
    "            if sil > best_score:\n",
    "                best_score = sil\n",
    "                best_k = k\n",
    "\n",
    "        filtered_df.unpersist()\n",
    "        return best_k, best_score\n",
    "    except Exception as e:\n",
    "        filtered_df.unpersist()\n",
    "        raise e"
   ]
  },
  {
   "cell_type": "code",
   "execution_count": 10,
   "metadata": {
    "id": "EQL93rV0R6jM"
   },
   "outputs": [],
   "source": [
    "def cluster_and_report_top_10(df, feature_cols, k, top_10_players, id_col=\"Name\"):\n",
    "    \"\"\"\n",
    "    Builds the pipeline for given k, then checks how many of the top-10-salary\n",
    "    players fall into each cluster.\n",
    "    \"\"\"\n",
    "    from pyspark.sql.functions import count\n",
    "    model, transformed_df = build_feature_pipeline(df, feature_cols, k)\n",
    "    top_10_names = [row[id_col] for row in top_10_players]\n",
    "    # Only the top-10 players\n",
    "    filter_df = transformed_df.filter(col(id_col).isin(top_10_names))\n",
    "    # Count how many appear in each cluster\n",
    "    grouped = filter_df.groupBy(\"clusterPrediction\").agg(count(\"*\").alias(\"countTop10\"))\n",
    "    grouped = grouped.orderBy(\"clusterPrediction\")\n",
    "    return grouped.withColumnRenamed(\"clusterPrediction\", \"ClustersID\")"
   ]
  },
  {
   "cell_type": "code",
   "execution_count": 11,
   "metadata": {
    "id": "H9tEyfkBmco-"
   },
   "outputs": [],
   "source": [
    "def apply_pca(df, input_col, output_col, k):\n",
    "    \"\"\"\n",
    "    Applies PCA to 'input_col' -> 'output_col' with k principal components.\n",
    "    Returns new DataFrame with 'output_col'.\n",
    "    \"\"\"\n",
    "    pca = PCA(k=k, inputCol=input_col, outputCol=output_col)\n",
    "    pca_model = pca.fit(df)\n",
    "    return pca_model.transform(df)"
   ]
  },
  {
   "cell_type": "code",
   "execution_count": 12,
   "metadata": {
    "id": "m3s_eVkVmo0a"
   },
   "outputs": [],
   "source": [
    "def plot_2d_clusters(df, x_col=\"pcaFeatures\", cluster_col=\"pcaClusterPrediction\",\n",
    "                     top_10_ids=None, id_col=\"Name\"):\n",
    "    \"\"\"\n",
    "    Plots clusters in 2D space (first two PCA components).\n",
    "    If top_10_ids is provided, highlight them in red with a label.\n",
    "    \"\"\"\n",
    "    rows = df.select(x_col, cluster_col, id_col).collect()\n",
    "    xs, ys, clusters, names = [], [], [], []\n",
    "    for row in rows:\n",
    "        vec = row[x_col]\n",
    "        if vec and len(vec) >= 2:\n",
    "            xs.append(vec[0])\n",
    "            ys.append(vec[1])\n",
    "        else:\n",
    "            xs.append(0)\n",
    "            ys.append(0)\n",
    "        clusters.append(row[cluster_col])\n",
    "        names.append(row[id_col])\n",
    "\n",
    "    plt.figure(figsize=(8,6))\n",
    "    sc = plt.scatter(xs, ys, c=clusters, cmap=\"viridis\", alpha=0.5)\n",
    "    plt.colorbar(sc, label=\"Cluster ID\")\n",
    "    plt.title(\"Clusters in 2D PCA Space\")\n",
    "    plt.xlabel(\"PCA1\")\n",
    "    plt.ylabel(\"PCA2\")\n",
    "\n",
    "    if top_10_ids:\n",
    "        highlight = [r[id_col] for r in top_10_ids]\n",
    "        for i, nm in enumerate(names):\n",
    "            if nm in highlight:\n",
    "                plt.scatter(xs[i], ys[i], c=\"red\", marker=\"x\", s=100)\n",
    "                plt.text(xs[i]+0.3, ys[i], nm, fontsize=8, color=\"red\")\n",
    "\n",
    "    plt.show()"
   ]
  },
  {
   "cell_type": "code",
   "execution_count": 13,
   "metadata": {
    "id": "tmayFyTVoKwG"
   },
   "outputs": [
    {
     "name": "stderr",
     "output_type": "stream",
     "text": [
      "\r",
      "[Stage 1:===================>                                       (1 + 2) / 3]\r",
      "\r",
      "                                                                                \r"
     ]
    },
    {
     "name": "stdout",
     "output_type": "stream",
     "text": [
      "Preview Data:\n",
      "25/01/11 21:18:24 WARN package: Truncated the string representation of a plan since it was too large. This behavior can be adjusted by setting 'spark.sql.debug.maxToStringFields'.\n",
      "25/01/11 21:18:25 WARN CSVHeaderChecker: CSV header does not conform to the schema.\n",
      " Header: , ID, Name, Age, Photo, Nationality, Flag, Overall, Potential, Club, Club Logo, Value, Wage, Special, Preferred Foot, International Reputation, Weak Foot, Skill Moves, Work Rate, Body Type, Real Face, Position, Jersey Number, Joined, Loaned From, Contract Valid Until, Height, Weight, LS, ST, RS, LW, LF, CF, RF, RW, LAM, CAM, RAM, LM, LCM, CM, RCM, RM, LWB, LDM, CDM, RDM, RWB, LB, LCB, CB, RCB, RB, Crossing, Finishing, HeadingAccuracy, ShortPassing, Volleys, Dribbling, Curve, FKAccuracy, LongPassing, BallControl, Acceleration, SprintSpeed, Agility, Reactions, Balance, ShotPower, Jumping, Stamina, Strength, LongShots, Aggression, Interceptions, Positioning, Vision, Penalties, Composure, Marking, StandingTackle, SlidingTackle, GKDiving, GKHandling, GKKicking, GKPositioning, GKReflexes, Release Clause\n",
      " Schema: _c0, ID, Name, Age, Photo, Nationality, Flag, Overall, Potential, Club, Club Logo, Value, Wage, Special, Preferred Foot, International Reputation, Weak Foot, Skill Moves, Work Rate, Body Type, Real Face, Position, Jersey Number, Joined, Loaned From, Contract Valid Until, Height, Weight, LS, ST, RS, LW, LF, CF, RF, RW, LAM, CAM, RAM, LM, LCM, CM, RCM, RM, LWB, LDM, CDM, RDM, RWB, LB, LCB, CB, RCB, RB, Crossing, Finishing, HeadingAccuracy, ShortPassing, Volleys, Dribbling, Curve, FKAccuracy, LongPassing, BallControl, Acceleration, SprintSpeed, Agility, Reactions, Balance, ShotPower, Jumping, Stamina, Strength, LongShots, Aggression, Interceptions, Positioning, Vision, Penalties, Composure, Marking, StandingTackle, SlidingTackle, GKDiving, GKHandling, GKKicking, GKPositioning, GKReflexes, Release Clause\n",
      "Expected: _c0 but found: \n",
      "CSV file: file:///home/linuxu/tsclient/Adir/dataFIFA.csv\n",
      "+---+------+-----------------+---+--------------------+-----------+--------------------+-------+---------+-------------------+--------------------+-------+-----+-------+--------------+------------------------+---------+-----------+--------------+----------+---------+--------+-------------+------------+-----------+--------------------+------+------+----+----+----+----+----+----+----+----+----+----+----+----+----+----+----+----+----+----+----+----+----+----+----+----+----+----+--------+---------+---------------+------------+-------+---------+-----+----------+-----------+-----------+------------+-----------+-------+---------+-------+---------+-------+-------+--------+---------+----------+-------------+-----------+------+---------+---------+-------+--------------+-------------+--------+----------+---------+-------------+----------+--------------+\n",
      "|_c0|    ID|             Name|Age|               Photo|Nationality|                Flag|Overall|Potential|               Club|           Club Logo|  Value| Wage|Special|Preferred Foot|International Reputation|Weak Foot|Skill Moves|     Work Rate| Body Type|Real Face|Position|Jersey Number|      Joined|Loaned From|Contract Valid Until|Height|Weight|  LS|  ST|  RS|  LW|  LF|  CF|  RF|  RW| LAM| CAM| RAM|  LM| LCM|  CM| RCM|  RM| LWB| LDM| CDM| RDM| RWB|  LB| LCB|  CB| RCB|  RB|Crossing|Finishing|HeadingAccuracy|ShortPassing|Volleys|Dribbling|Curve|FKAccuracy|LongPassing|BallControl|Acceleration|SprintSpeed|Agility|Reactions|Balance|ShotPower|Jumping|Stamina|Strength|LongShots|Aggression|Interceptions|Positioning|Vision|Penalties|Composure|Marking|StandingTackle|SlidingTackle|GKDiving|GKHandling|GKKicking|GKPositioning|GKReflexes|Release Clause|\n",
      "+---+------+-----------------+---+--------------------+-----------+--------------------+-------+---------+-------------------+--------------------+-------+-----+-------+--------------+------------------------+---------+-----------+--------------+----------+---------+--------+-------------+------------+-----------+--------------------+------+------+----+----+----+----+----+----+----+----+----+----+----+----+----+----+----+----+----+----+----+----+----+----+----+----+----+----+--------+---------+---------------+------------+-------+---------+-----+----------+-----------+-----------+------------+-----------+-------+---------+-------+---------+-------+-------+--------+---------+----------+-------------+-----------+------+---------+---------+-------+--------------+-------------+--------+----------+---------+-------------+----------+--------------+\n",
      "|  0|158023|         L. Messi| 31|https://cdn.sofif...|  Argentina|https://cdn.sofif...|     94|       94|       FC Barcelona|https://cdn.sofif...|€110.5M|€565K|   2202|          Left|                       5|        4|          4|Medium/ Medium|     Messi|      Yes|      RF|           10| Jul 1, 2004|       null|                2021|   5'7|159lbs|88+2|88+2|88+2|92+2|93+2|93+2|93+2|92+2|93+2|93+2|93+2|91+2|84+2|84+2|84+2|91+2|64+2|61+2|61+2|61+2|64+2|59+2|47+2|47+2|47+2|59+2|      84|       95|             70|          90|     86|       97|   93|        94|         87|         96|          91|         86|     91|       95|     95|       85|     68|     72|      59|       94|        48|           22|         94|    94|       75|       96|     33|            28|           26|       6|        11|       15|           14|         8|       €226.5M|\n",
      "|  1| 20801|Cristiano Ronaldo| 33|https://cdn.sofif...|   Portugal|https://cdn.sofif...|     94|       94|           Juventus|https://cdn.sofif...|   €77M|€405K|   2228|         Right|                       5|        4|          5|     High/ Low|C. Ronaldo|      Yes|      ST|            7|Jul 10, 2018|       null|                2022|   6'2|183lbs|91+3|91+3|91+3|89+3|90+3|90+3|90+3|89+3|88+3|88+3|88+3|88+3|81+3|81+3|81+3|88+3|65+3|61+3|61+3|61+3|65+3|61+3|53+3|53+3|53+3|61+3|      84|       94|             89|          81|     87|       88|   81|        76|         77|         94|          89|         91|     87|       96|     70|       95|     95|     88|      79|       93|        63|           29|         95|    82|       85|       95|     28|            31|           23|       7|        11|       15|           14|        11|       €127.1M|\n",
      "|  2|190871|        Neymar Jr| 26|https://cdn.sofif...|     Brazil|https://cdn.sofif...|     92|       93|Paris Saint-Germain|https://cdn.sofif...|€118.5M|€290K|   2143|         Right|                       5|        5|          5|  High/ Medium|    Neymar|      Yes|      LW|           10| Aug 3, 2017|       null|                2022|   5'9|150lbs|84+3|84+3|84+3|89+3|89+3|89+3|89+3|89+3|89+3|89+3|89+3|88+3|81+3|81+3|81+3|88+3|65+3|60+3|60+3|60+3|65+3|60+3|47+3|47+3|47+3|60+3|      79|       87|             62|          84|     84|       96|   88|        87|         78|         95|          94|         90|     96|       94|     84|       80|     61|     81|      49|       82|        56|           36|         89|    87|       81|       94|     27|            24|           33|       9|         9|       15|           15|        11|       €228.1M|\n",
      "|  3|193080|           De Gea| 27|https://cdn.sofif...|      Spain|https://cdn.sofif...|     91|       93|  Manchester United|https://cdn.sofif...|   €72M|€260K|   1471|         Right|                       4|        3|          1|Medium/ Medium|      Lean|      Yes|      GK|            1| Jul 1, 2011|       null|                2020|   6'4|168lbs|null|null|null|null|null|null|null|null|null|null|null|null|null|null|null|null|null|null|null|null|null|null|null|null|null|null|      17|       13|             21|          50|     13|       18|   21|        19|         51|         42|          57|         58|     60|       90|     43|       31|     67|     43|      64|       12|        38|           30|         12|    68|       40|       68|     15|            21|           13|      90|        85|       87|           88|        94|       €138.6M|\n",
      "|  4|192985|     K. De Bruyne| 27|https://cdn.sofif...|    Belgium|https://cdn.sofif...|     91|       92|    Manchester City|https://cdn.sofif...|  €102M|€355K|   2281|         Right|                       4|        5|          4|    High/ High|    Normal|      Yes|     RCM|            7|Aug 30, 2015|       null|                2023|  5'11|154lbs|82+3|82+3|82+3|87+3|87+3|87+3|87+3|87+3|88+3|88+3|88+3|88+3|87+3|87+3|87+3|88+3|77+3|77+3|77+3|77+3|77+3|73+3|66+3|66+3|66+3|73+3|      93|       82|             55|          92|     82|       86|   85|        83|         91|         91|          78|         76|     79|       91|     77|       91|     63|     90|      75|       91|        76|           61|         87|    94|       79|       88|     68|            58|           51|      15|        13|        5|           10|        13|       €196.4M|\n",
      "+---+------+-----------------+---+--------------------+-----------+--------------------+-------+---------+-------------------+--------------------+-------+-----+-------+--------------+------------------------+---------+-----------+--------------+----------+---------+--------+-------------+------------+-----------+--------------------+------+------+----+----+----+----+----+----+----+----+----+----+----+----+----+----+----+----+----+----+----+----+----+----+----+----+----+----+--------+---------+---------------+------------+-------+---------+-----+----------+-----------+-----------+------------+-----------+-------+---------+-------+---------+-------+-------+--------+---------+----------+-------------+-----------+------+---------+---------+-------+--------------+-------------+--------+----------+---------+-------------+----------+--------------+\n",
      "only showing top 5 rows\n",
      "\n"
     ]
    },
    {
     "name": "stdout",
     "output_type": "stream",
     "text": [
      "Columns: ['_c0', 'ID', 'Name', 'Age', 'Photo', 'Nationality', 'Flag', 'Overall', 'Potential', 'Club', 'Club Logo', 'Value', 'Wage', 'Special', 'Preferred Foot', 'International Reputation', 'Weak Foot', 'Skill Moves', 'Work Rate', 'Body Type', 'Real Face', 'Position', 'Jersey Number', 'Joined', 'Loaned From', 'Contract Valid Until', 'Height', 'Weight', 'LS', 'ST', 'RS', 'LW', 'LF', 'CF', 'RF', 'RW', 'LAM', 'CAM', 'RAM', 'LM', 'LCM', 'CM', 'RCM', 'RM', 'LWB', 'LDM', 'CDM', 'RDM', 'RWB', 'LB', 'LCB', 'CB', 'RCB', 'RB', 'Crossing', 'Finishing', 'HeadingAccuracy', 'ShortPassing', 'Volleys', 'Dribbling', 'Curve', 'FKAccuracy', 'LongPassing', 'BallControl', 'Acceleration', 'SprintSpeed', 'Agility', 'Reactions', 'Balance', 'ShotPower', 'Jumping', 'Stamina', 'Strength', 'LongShots', 'Aggression', 'Interceptions', 'Positioning', 'Vision', 'Penalties', 'Composure', 'Marking', 'StandingTackle', 'SlidingTackle', 'GKDiving', 'GKHandling', 'GKKicking', 'GKPositioning', 'GKReflexes', 'Release Clause', 'Salary']\n"
     ]
    }
   ],
   "source": [
    "\"\"\"\n",
    "MAIN EXECUTION\n",
    "All steps from start to finish.\n",
    "\"\"\"\n",
    "file_path = \"dataFIFA.csv\"\n",
    "df_fifa = load_data(file_path)\n",
    "\n",
    "print(\"Preview Data:\")\n",
    "df_fifa.show(5)\n",
    "\n",
    "# 1) Clean 'Wage' -> 'Salary'\n",
    "df_fifa = create_salary_column(df_fifa)\n",
    "\n",
    "# 2) Clean 'Value' -> numeric 'Value' (replaces the old string column with a numeric column of the same name)\n",
    "df_fifa = create_value_column(df_fifa)\n",
    "\n",
    "# Check columns to see that we have \"Salary\" and \"Value\" as doubles now\n",
    "print(\"Columns:\", df_fifa.columns)"
   ]
  },
  {
   "cell_type": "code",
   "execution_count": 14,
   "metadata": {
    "id": "M5KBgRk0oRUM"
   },
   "outputs": [
    {
     "name": "stdout",
     "output_type": "stream",
     "text": [
      "Identify top 10 players with the biggest Salary.\n"
     ]
    },
    {
     "name": "stderr",
     "output_type": "stream",
     "text": [
      "\r",
      "[Stage 3:>                                                          (0 + 3) / 3]\r"
     ]
    },
    {
     "name": "stdout",
     "output_type": "stream",
     "text": [
      "25/01/11 21:18:27 WARN CSVHeaderChecker: CSV header does not conform to the schema.\n",
      " Header: , ID, Name, Age, Photo, Nationality, Flag, Overall, Potential, Club, Club Logo, Value, Wage, Special, Preferred Foot, International Reputation, Weak Foot, Skill Moves, Work Rate, Body Type, Real Face, Position, Jersey Number, Joined, Loaned From, Contract Valid Until, Height, Weight, LS, ST, RS, LW, LF, CF, RF, RW, LAM, CAM, RAM, LM, LCM, CM, RCM, RM, LWB, LDM, CDM, RDM, RWB, LB, LCB, CB, RCB, RB, Crossing, Finishing, HeadingAccuracy, ShortPassing, Volleys, Dribbling, Curve, FKAccuracy, LongPassing, BallControl, Acceleration, SprintSpeed, Agility, Reactions, Balance, ShotPower, Jumping, Stamina, Strength, LongShots, Aggression, Interceptions, Positioning, Vision, Penalties, Composure, Marking, StandingTackle, SlidingTackle, GKDiving, GKHandling, GKKicking, GKPositioning, GKReflexes, Release Clause\n",
      " Schema: _c0, ID, Name, Age, Photo, Nationality, Flag, Overall, Potential, Club, Club Logo, Value, Wage, Special, Preferred Foot, International Reputation, Weak Foot, Skill Moves, Work Rate, Body Type, Real Face, Position, Jersey Number, Joined, Loaned From, Contract Valid Until, Height, Weight, LS, ST, RS, LW, LF, CF, RF, RW, LAM, CAM, RAM, LM, LCM, CM, RCM, RM, LWB, LDM, CDM, RDM, RWB, LB, LCB, CB, RCB, RB, Crossing, Finishing, HeadingAccuracy, ShortPassing, Volleys, Dribbling, Curve, FKAccuracy, LongPassing, BallControl, Acceleration, SprintSpeed, Agility, Reactions, Balance, ShotPower, Jumping, Stamina, Strength, LongShots, Aggression, Interceptions, Positioning, Vision, Penalties, Composure, Marking, StandingTackle, SlidingTackle, GKDiving, GKHandling, GKKicking, GKPositioning, GKReflexes, Release Clause\n",
      "Expected: _c0 but found: \n",
      "CSV file: file:///home/linuxu/tsclient/Adir/dataFIFA.csv\n"
     ]
    },
    {
     "name": "stderr",
     "output_type": "stream",
     "text": [
      "\r",
      "[Stage 3:===================>                                       (1 + 2) / 3]\r"
     ]
    },
    {
     "name": "stdout",
     "output_type": "stream",
     "text": [
      "Row(_c0=0, ID=158023, Name='L. Messi', Age=31, Photo='https://cdn.sofifa.org/players/4/19/158023.png', Nationality='Argentina', Flag='https://cdn.sofifa.org/flags/52.png', Overall=94, Potential=94, Club='FC Barcelona', Club Logo='https://cdn.sofifa.org/teams/2/light/241.png', Value=110500000.0, Wage='€565K', Special=2202, Preferred Foot='Left', International Reputation=5, Weak Foot=4, Skill Moves=4, Work Rate='Medium/ Medium', Body Type='Messi', Real Face='Yes', Position='RF', Jersey Number=10, Joined='Jul 1, 2004', Loaned From=None, Contract Valid Until='2021', Height=\"5'7\", Weight='159lbs', LS='88+2', ST='88+2', RS='88+2', LW='92+2', LF='93+2', CF='93+2', RF='93+2', RW='92+2', LAM='93+2', CAM='93+2', RAM='93+2', LM='91+2', LCM='84+2', CM='84+2', RCM='84+2', RM='91+2', LWB='64+2', LDM='61+2', CDM='61+2', RDM='61+2', RWB='64+2', LB='59+2', LCB='47+2', CB='47+2', RCB='47+2', RB='59+2', Crossing=84, Finishing=95, HeadingAccuracy=70, ShortPassing=90, Volleys=86, Dribbling=97, Curve=93, FKAccuracy=94, LongPassing=87, BallControl=96, Acceleration=91, SprintSpeed=86, Agility=91, Reactions=95, Balance=95, ShotPower=85, Jumping=68, Stamina=72, Strength=59, LongShots=94, Aggression=48, Interceptions=22, Positioning=94, Vision=94, Penalties=75, Composure=96, Marking=33, StandingTackle=28, SlidingTackle=26, GKDiving=6, GKHandling=11, GKKicking=15, GKPositioning=14, GKReflexes=8, Release Clause='€226.5M', Salary=565.0)\n",
      "Row(_c0=7, ID=176580, Name='L. Suárez', Age=31, Photo='https://cdn.sofifa.org/players/4/19/176580.png', Nationality='Uruguay', Flag='https://cdn.sofifa.org/flags/60.png', Overall=91, Potential=91, Club='FC Barcelona', Club Logo='https://cdn.sofifa.org/teams/2/light/241.png', Value=80000000.0, Wage='€455K', Special=2346, Preferred Foot='Right', International Reputation=5, Weak Foot=4, Skill Moves=3, Work Rate='High/ Medium', Body Type='Normal', Real Face='Yes', Position='RS', Jersey Number=9, Joined='Jul 11, 2014', Loaned From=None, Contract Valid Until='2021', Height=\"6'0\", Weight='190lbs', LS='87+5', ST='87+5', RS='87+5', LW='86+5', LF='87+5', CF='87+5', RF='87+5', RW='86+5', LAM='85+5', CAM='85+5', RAM='85+5', LM='84+5', LCM='79+5', CM='79+5', RCM='79+5', RM='84+5', LWB='69+5', LDM='68+5', CDM='68+5', RDM='68+5', RWB='69+5', LB='66+5', LCB='63+5', CB='63+5', RCB='63+5', RB='66+5', Crossing=77, Finishing=93, HeadingAccuracy=77, ShortPassing=82, Volleys=88, Dribbling=87, Curve=86, FKAccuracy=84, LongPassing=64, BallControl=90, Acceleration=86, SprintSpeed=75, Agility=82, Reactions=92, Balance=83, ShotPower=86, Jumping=69, Stamina=90, Strength=83, LongShots=85, Aggression=87, Interceptions=41, Positioning=92, Vision=84, Penalties=85, Composure=85, Marking=62, StandingTackle=45, SlidingTackle=38, GKDiving=27, GKHandling=25, GKKicking=31, GKPositioning=33, GKReflexes=37, Release Clause='€164M', Salary=455.0)\n",
      "Row(_c0=6, ID=177003, Name='L. Modrić', Age=32, Photo='https://cdn.sofifa.org/players/4/19/177003.png', Nationality='Croatia', Flag='https://cdn.sofifa.org/flags/10.png', Overall=91, Potential=91, Club='Real Madrid', Club Logo='https://cdn.sofifa.org/teams/2/light/243.png', Value=67000000.0, Wage='€420K', Special=2280, Preferred Foot='Right', International Reputation=4, Weak Foot=4, Skill Moves=4, Work Rate='High/ High', Body Type='Lean', Real Face='Yes', Position='RCM', Jersey Number=10, Joined='Aug 1, 2012', Loaned From=None, Contract Valid Until='2020', Height=\"5'8\", Weight='146lbs', LS='77+3', ST='77+3', RS='77+3', LW='85+3', LF='84+3', CF='84+3', RF='84+3', RW='85+3', LAM='87+3', CAM='87+3', RAM='87+3', LM='86+3', LCM='88+3', CM='88+3', RCM='88+3', RM='86+3', LWB='82+3', LDM='81+3', CDM='81+3', RDM='81+3', RWB='82+3', LB='79+3', LCB='71+3', CB='71+3', RCB='71+3', RB='79+3', Crossing=86, Finishing=72, HeadingAccuracy=55, ShortPassing=93, Volleys=76, Dribbling=90, Curve=85, FKAccuracy=78, LongPassing=88, BallControl=93, Acceleration=80, SprintSpeed=72, Agility=93, Reactions=90, Balance=94, ShotPower=79, Jumping=68, Stamina=89, Strength=58, LongShots=82, Aggression=62, Interceptions=83, Positioning=79, Vision=92, Penalties=82, Composure=84, Marking=60, StandingTackle=76, SlidingTackle=73, GKDiving=13, GKHandling=9, GKKicking=7, GKPositioning=14, GKReflexes=9, Release Clause='€137.4M', Salary=420.0)\n",
      "Row(_c0=1, ID=20801, Name='Cristiano Ronaldo', Age=33, Photo='https://cdn.sofifa.org/players/4/19/20801.png', Nationality='Portugal', Flag='https://cdn.sofifa.org/flags/38.png', Overall=94, Potential=94, Club='Juventus', Club Logo='https://cdn.sofifa.org/teams/2/light/45.png', Value=77000000.0, Wage='€405K', Special=2228, Preferred Foot='Right', International Reputation=5, Weak Foot=4, Skill Moves=5, Work Rate='High/ Low', Body Type='C. Ronaldo', Real Face='Yes', Position='ST', Jersey Number=7, Joined='Jul 10, 2018', Loaned From=None, Contract Valid Until='2022', Height=\"6'2\", Weight='183lbs', LS='91+3', ST='91+3', RS='91+3', LW='89+3', LF='90+3', CF='90+3', RF='90+3', RW='89+3', LAM='88+3', CAM='88+3', RAM='88+3', LM='88+3', LCM='81+3', CM='81+3', RCM='81+3', RM='88+3', LWB='65+3', LDM='61+3', CDM='61+3', RDM='61+3', RWB='65+3', LB='61+3', LCB='53+3', CB='53+3', RCB='53+3', RB='61+3', Crossing=84, Finishing=94, HeadingAccuracy=89, ShortPassing=81, Volleys=87, Dribbling=88, Curve=81, FKAccuracy=76, LongPassing=77, BallControl=94, Acceleration=89, SprintSpeed=91, Agility=87, Reactions=96, Balance=70, ShotPower=95, Jumping=95, Stamina=88, Strength=79, LongShots=93, Aggression=63, Interceptions=29, Positioning=95, Vision=82, Penalties=85, Composure=95, Marking=28, StandingTackle=31, SlidingTackle=23, GKDiving=7, GKHandling=11, GKKicking=15, GKPositioning=14, GKReflexes=11, Release Clause='€127.1M', Salary=405.0)\n",
      "Row(_c0=8, ID=155862, Name='Sergio Ramos', Age=32, Photo='https://cdn.sofifa.org/players/4/19/155862.png', Nationality='Spain', Flag='https://cdn.sofifa.org/flags/45.png', Overall=91, Potential=91, Club='Real Madrid', Club Logo='https://cdn.sofifa.org/teams/2/light/243.png', Value=51000000.0, Wage='€380K', Special=2201, Preferred Foot='Right', International Reputation=4, Weak Foot=3, Skill Moves=3, Work Rate='High/ Medium', Body Type='Normal', Real Face='Yes', Position='RCB', Jersey Number=15, Joined='Aug 1, 2005', Loaned From=None, Contract Valid Until='2020', Height=\"6'0\", Weight='181lbs', LS='73+3', ST='73+3', RS='73+3', LW='70+3', LF='71+3', CF='71+3', RF='71+3', RW='70+3', LAM='71+3', CAM='71+3', RAM='71+3', LM='72+3', LCM='75+3', CM='75+3', RCM='75+3', RM='72+3', LWB='81+3', LDM='84+3', CDM='84+3', RDM='84+3', RWB='81+3', LB='84+3', LCB='87+3', CB='87+3', RCB='87+3', RB='84+3', Crossing=66, Finishing=60, HeadingAccuracy=91, ShortPassing=78, Volleys=66, Dribbling=63, Curve=74, FKAccuracy=72, LongPassing=77, BallControl=84, Acceleration=76, SprintSpeed=75, Agility=78, Reactions=85, Balance=66, ShotPower=79, Jumping=93, Stamina=84, Strength=83, LongShots=59, Aggression=88, Interceptions=90, Positioning=60, Vision=63, Penalties=75, Composure=82, Marking=87, StandingTackle=92, SlidingTackle=91, GKDiving=11, GKHandling=8, GKKicking=9, GKPositioning=7, GKReflexes=11, Release Clause='€104.6M', Salary=380.0)\n",
      "Row(_c0=36, ID=173731, Name='G. Bale', Age=28, Photo='https://cdn.sofifa.org/players/4/19/173731.png', Nationality='Wales', Flag='https://cdn.sofifa.org/flags/50.png', Overall=88, Potential=88, Club='Real Madrid', Club Logo='https://cdn.sofifa.org/teams/2/light/243.png', Value=60000000.0, Wage='€355K', Special=2279, Preferred Foot='Left', International Reputation=4, Weak Foot=3, Skill Moves=4, Work Rate='High/ Medium', Body Type='Lean', Real Face='Yes', Position='ST', Jersey Number=11, Joined='Sep 2, 2013', Loaned From=None, Contract Valid Until='2022', Height=\"6'1\", Weight='181lbs', LS='86+3', ST='86+3', RS='86+3', LW='86+3', LF='86+3', CF='86+3', RF='86+3', RW='86+3', LAM='85+3', CAM='85+3', RAM='85+3', LM='85+3', LCM='80+3', CM='80+3', RCM='80+3', RM='85+3', LWB='73+3', LDM='70+3', CDM='70+3', RDM='70+3', RWB='73+3', LB='71+3', LCB='67+3', CB='67+3', RCB='67+3', RB='71+3', Crossing=87, Finishing=86, HeadingAccuracy=84, ShortPassing=85, Volleys=85, Dribbling=87, Curve=90, FKAccuracy=87, LongPassing=80, BallControl=85, Acceleration=94, SprintSpeed=95, Agility=82, Reactions=85, Balance=65, ShotPower=92, Jumping=87, Stamina=75, Strength=80, LongShots=91, Aggression=65, Interceptions=59, Positioning=85, Vision=79, Penalties=76, Composure=86, Marking=54, StandingTackle=55, SlidingTackle=52, GKDiving=15, GKHandling=15, GKKicking=11, GKPositioning=5, GKReflexes=6, Release Clause='€123M', Salary=355.0)\n",
      "Row(_c0=4, ID=192985, Name='K. De Bruyne', Age=27, Photo='https://cdn.sofifa.org/players/4/19/192985.png', Nationality='Belgium', Flag='https://cdn.sofifa.org/flags/7.png', Overall=91, Potential=92, Club='Manchester City', Club Logo='https://cdn.sofifa.org/teams/2/light/10.png', Value=102000000.0, Wage='€355K', Special=2281, Preferred Foot='Right', International Reputation=4, Weak Foot=5, Skill Moves=4, Work Rate='High/ High', Body Type='Normal', Real Face='Yes', Position='RCM', Jersey Number=7, Joined='Aug 30, 2015', Loaned From=None, Contract Valid Until='2023', Height=\"5'11\", Weight='154lbs', LS='82+3', ST='82+3', RS='82+3', LW='87+3', LF='87+3', CF='87+3', RF='87+3', RW='87+3', LAM='88+3', CAM='88+3', RAM='88+3', LM='88+3', LCM='87+3', CM='87+3', RCM='87+3', RM='88+3', LWB='77+3', LDM='77+3', CDM='77+3', RDM='77+3', RWB='77+3', LB='73+3', LCB='66+3', CB='66+3', RCB='66+3', RB='73+3', Crossing=93, Finishing=82, HeadingAccuracy=55, ShortPassing=92, Volleys=82, Dribbling=86, Curve=85, FKAccuracy=83, LongPassing=91, BallControl=91, Acceleration=78, SprintSpeed=76, Agility=79, Reactions=91, Balance=77, ShotPower=91, Jumping=63, Stamina=90, Strength=75, LongShots=91, Aggression=76, Interceptions=61, Positioning=87, Vision=94, Penalties=79, Composure=88, Marking=68, StandingTackle=58, SlidingTackle=51, GKDiving=15, GKHandling=13, GKKicking=5, GKPositioning=10, GKReflexes=13, Release Clause='€196.4M', Salary=355.0)\n",
      "Row(_c0=11, ID=182521, Name='T. Kroos', Age=28, Photo='https://cdn.sofifa.org/players/4/19/182521.png', Nationality='Germany', Flag='https://cdn.sofifa.org/flags/21.png', Overall=90, Potential=90, Club='Real Madrid', Club Logo='https://cdn.sofifa.org/teams/2/light/243.png', Value=76500000.0, Wage='€355K', Special=2190, Preferred Foot='Right', International Reputation=4, Weak Foot=5, Skill Moves=3, Work Rate='Medium/ Medium', Body Type='Normal', Real Face='Yes', Position='LCM', Jersey Number=8, Joined='Jul 17, 2014', Loaned From=None, Contract Valid Until='2022', Height=\"6'0\", Weight='168lbs', LS='78+3', ST='78+3', RS='78+3', LW='81+3', LF='82+3', CF='82+3', RF='82+3', RW='81+3', LAM='84+3', CAM='84+3', RAM='84+3', LM='82+3', LCM='86+3', CM='86+3', RCM='86+3', RM='82+3', LWB='79+3', LDM='82+3', CDM='82+3', RDM='82+3', RWB='79+3', LB='77+3', LCB='72+3', CB='72+3', RCB='72+3', RB='77+3', Crossing=88, Finishing=76, HeadingAccuracy=54, ShortPassing=92, Volleys=82, Dribbling=81, Curve=86, FKAccuracy=84, LongPassing=93, BallControl=90, Acceleration=64, SprintSpeed=62, Agility=70, Reactions=89, Balance=71, ShotPower=87, Jumping=30, Stamina=75, Strength=73, LongShots=92, Aggression=60, Interceptions=82, Positioning=79, Vision=86, Penalties=73, Composure=85, Marking=72, StandingTackle=79, SlidingTackle=69, GKDiving=10, GKHandling=11, GKKicking=13, GKPositioning=7, GKReflexes=10, Release Clause='€156.8M', Salary=355.0)\n",
      "Row(_c0=5, ID=183277, Name='E. Hazard', Age=27, Photo='https://cdn.sofifa.org/players/4/19/183277.png', Nationality='Belgium', Flag='https://cdn.sofifa.org/flags/7.png', Overall=91, Potential=91, Club='Chelsea', Club Logo='https://cdn.sofifa.org/teams/2/light/5.png', Value=93000000.0, Wage='€340K', Special=2142, Preferred Foot='Right', International Reputation=4, Weak Foot=4, Skill Moves=4, Work Rate='High/ Medium', Body Type='Normal', Real Face='Yes', Position='LF', Jersey Number=10, Joined='Jul 1, 2012', Loaned From=None, Contract Valid Until='2020', Height=\"5'8\", Weight='163lbs', LS='83+3', ST='83+3', RS='83+3', LW='89+3', LF='88+3', CF='88+3', RF='88+3', RW='89+3', LAM='89+3', CAM='89+3', RAM='89+3', LM='89+3', LCM='82+3', CM='82+3', RCM='82+3', RM='89+3', LWB='66+3', LDM='63+3', CDM='63+3', RDM='63+3', RWB='66+3', LB='60+3', LCB='49+3', CB='49+3', RCB='49+3', RB='60+3', Crossing=81, Finishing=84, HeadingAccuracy=61, ShortPassing=89, Volleys=80, Dribbling=95, Curve=83, FKAccuracy=79, LongPassing=83, BallControl=94, Acceleration=94, SprintSpeed=88, Agility=95, Reactions=90, Balance=94, ShotPower=82, Jumping=56, Stamina=83, Strength=66, LongShots=80, Aggression=54, Interceptions=41, Positioning=87, Vision=89, Penalties=86, Composure=91, Marking=34, StandingTackle=27, SlidingTackle=22, GKDiving=11, GKHandling=12, GKKicking=6, GKPositioning=8, GKReflexes=8, Release Clause='€172.1M', Salary=340.0)\n",
      "Row(_c0=32, ID=189242, Name='Coutinho', Age=26, Photo='https://cdn.sofifa.org/players/4/19/189242.png', Nationality='Brazil', Flag='https://cdn.sofifa.org/flags/54.png', Overall=88, Potential=89, Club='FC Barcelona', Club Logo='https://cdn.sofifa.org/teams/2/light/241.png', Value=69500000.0, Wage='€340K', Special=2175, Preferred Foot='Right', International Reputation=3, Weak Foot=4, Skill Moves=5, Work Rate='High/ High', Body Type='Normal', Real Face='Yes', Position='LW', Jersey Number=7, Joined='Jan 6, 2018', Loaned From=None, Contract Valid Until='2023', Height=\"5'8\", Weight='150lbs', LS='79+3', ST='79+3', RS='79+3', LW='86+3', LF='85+3', CF='85+3', RF='85+3', RW='86+3', LAM='87+3', CAM='87+3', RAM='87+3', LM='85+3', LCM='83+3', CM='83+3', RCM='83+3', RM='85+3', LWB='71+3', LDM='70+3', CDM='70+3', RDM='70+3', RWB='71+3', LB='67+3', LCB='58+3', CB='58+3', RCB='58+3', RB='67+3', Crossing=79, Finishing=79, HeadingAccuracy=48, ShortPassing=88, Volleys=75, Dribbling=91, Curve=91, FKAccuracy=86, LongPassing=83, BallControl=92, Acceleration=89, SprintSpeed=75, Agility=92, Reactions=83, Balance=93, ShotPower=83, Jumping=59, Stamina=79, Strength=61, LongShots=93, Aggression=59, Interceptions=49, Positioning=84, Vision=90, Penalties=70, Composure=85, Marking=55, StandingTackle=54, SlidingTackle=47, GKDiving=12, GKHandling=7, GKKicking=9, GKPositioning=14, GKReflexes=6, Release Clause='€147.7M', Salary=340.0)\n",
      "\n",
      "Feature Management Table:\n",
      "Column name | Feature type | Way to manage a feature | Example\n",
      "Age\tNumerical\tUse as-is or scale\tExample: Age=31 -> scaled=0.45\n",
      "Overall\tNumerical\tUse as-is or scale\tExample: Overall=94 -> scaled=0.90\n",
      "Potential\tNumerical\tUse as-is or scale\tExample: Potential=94 -> scaled=0.90\n",
      "Salary\tNumerical\tUse as-is or scale\tExample: €565K -> 565 -> scaled=0.40\n",
      "Value\tNumerical\tUse as-is or scale\tExample: €110.5M -> 110500000 -> scaled=1.0\n",
      "\n",
      "Finding the optimal number of clusters via Silhouette.\n"
     ]
    },
    {
     "name": "stderr",
     "output_type": "stream",
     "text": [
      "\r",
      "                                                                                \r"
     ]
    }
   ],
   "source": [
    "print(\"Identify top 10 players with the biggest Salary.\")\n",
    "top_10_players = get_top_10_players_by_salary(df_fifa, salary_col=\"Salary\")\n",
    "for row in top_10_players:\n",
    "    print(row)\n",
    "\n",
    "print(\"\\nFeature Management Table:\")\n",
    "feature_info = define_feature_management()\n",
    "print_feature_table(feature_info)\n",
    "\n",
    "selected_features = [item[0] for item in feature_info]\n",
    "\n",
    "print(\"\\nFinding the optimal number of clusters via Silhouette.\")"
   ]
  },
  {
   "cell_type": "code",
   "execution_count": 15,
   "metadata": {
    "id": "4CdUJoC_n_u1"
   },
   "outputs": [
    {
     "name": "stdout",
     "output_type": "stream",
     "text": [
      "Testing k=2...\n",
      "25/01/11 21:18:29 WARN CSVHeaderChecker: CSV header does not conform to the schema.\n",
      " Header: , ID, Name, Age, Photo, Nationality, Flag, Overall, Potential, Club, Club Logo, Value, Wage, Special, Preferred Foot, International Reputation, Weak Foot, Skill Moves, Work Rate, Body Type, Real Face, Position, Jersey Number, Joined, Loaned From, Contract Valid Until, Height, Weight, LS, ST, RS, LW, LF, CF, RF, RW, LAM, CAM, RAM, LM, LCM, CM, RCM, RM, LWB, LDM, CDM, RDM, RWB, LB, LCB, CB, RCB, RB, Crossing, Finishing, HeadingAccuracy, ShortPassing, Volleys, Dribbling, Curve, FKAccuracy, LongPassing, BallControl, Acceleration, SprintSpeed, Agility, Reactions, Balance, ShotPower, Jumping, Stamina, Strength, LongShots, Aggression, Interceptions, Positioning, Vision, Penalties, Composure, Marking, StandingTackle, SlidingTackle, GKDiving, GKHandling, GKKicking, GKPositioning, GKReflexes, Release Clause\n",
      " Schema: _c0, ID, Name, Age, Photo, Nationality, Flag, Overall, Potential, Club, Club Logo, Value, Wage, Special, Preferred Foot, International Reputation, Weak Foot, Skill Moves, Work Rate, Body Type, Real Face, Position, Jersey Number, Joined, Loaned From, Contract Valid Until, Height, Weight, LS, ST, RS, LW, LF, CF, RF, RW, LAM, CAM, RAM, LM, LCM, CM, RCM, RM, LWB, LDM, CDM, RDM, RWB, LB, LCB, CB, RCB, RB, Crossing, Finishing, HeadingAccuracy, ShortPassing, Volleys, Dribbling, Curve, FKAccuracy, LongPassing, BallControl, Acceleration, SprintSpeed, Agility, Reactions, Balance, ShotPower, Jumping, Stamina, Strength, LongShots, Aggression, Interceptions, Positioning, Vision, Penalties, Composure, Marking, StandingTackle, SlidingTackle, GKDiving, GKHandling, GKKicking, GKPositioning, GKReflexes, Release Clause\n",
      "Expected: _c0 but found: \n",
      "CSV file: file:///home/linuxu/tsclient/Adir/dataFIFA.csv\n"
     ]
    },
    {
     "name": "stderr",
     "output_type": "stream",
     "text": [
      "                                                                                \r"
     ]
    },
    {
     "name": "stdout",
     "output_type": "stream",
     "text": [
      "Silhouette score for k=2: 0.6395052370797657\n",
      "Testing k=3...\n",
      "25/01/11 21:18:41 WARN CacheManager: Asked to cache already cached data.\n",
      "Silhouette score for k=3: 0.4464197314416902\n",
      "Testing k=4...\n",
      "25/01/11 21:18:46 WARN CacheManager: Asked to cache already cached data.\n",
      "Silhouette score for k=4: 0.4898726075825371\n",
      "Testing k=5...\n",
      "25/01/11 21:18:50 WARN CacheManager: Asked to cache already cached data.\n",
      "Silhouette score for k=5: 0.48443889698579107\n",
      "Testing k=6...\n",
      "25/01/11 21:18:54 WARN CacheManager: Asked to cache already cached data.\n",
      "Silhouette score for k=6: 0.4682916380319781\n",
      "Testing k=7...\n",
      "25/01/11 21:18:58 WARN CacheManager: Asked to cache already cached data.\n",
      "Silhouette score for k=7: 0.48079780596721533\n",
      "Testing k=8...\n",
      "25/01/11 21:19:01 WARN CacheManager: Asked to cache already cached data.\n",
      "Silhouette score for k=8: 0.46448312364093397\n",
      "Optimal k = 2, best Silhouette = 0.6395\n",
      "\n",
      "Creating a result table for that best k.\n",
      "25/01/11 21:19:05 WARN CacheManager: Asked to cache already cached data.\n",
      "+----------+----------+\n",
      "|ClustersID|countTop10|\n",
      "+----------+----------+\n",
      "|         0|        11|\n",
      "|         1|         1|\n",
      "+----------+----------+\n",
      "\n",
      "\n",
      "Apply PCA for 5, 4, 3 principal components & measure Silhouette each time.\n",
      "25/01/11 21:19:12 WARN InstanceBuilder$NativeBLAS: Failed to load implementation from:dev.ludovic.netlib.blas.JNIBLAS\n",
      "25/01/11 21:19:12 WARN InstanceBuilder$NativeBLAS: Failed to load implementation from:dev.ludovic.netlib.blas.ForeignLinkerBLAS\n",
      "25/01/11 21:19:13 WARN LAPACK: Failed to load implementation from: com.github.fommil.netlib.NativeSystemLAPACK\n",
      "25/01/11 21:19:13 WARN LAPACK: Failed to load implementation from: com.github.fommil.netlib.NativeRefLAPACK\n",
      "With 5 PCA components, Silhouette = 0.6642\n",
      "25/01/11 21:19:16 WARN CacheManager: Asked to cache already cached data.\n",
      "With 4 PCA components, Silhouette = 0.6678\n",
      "25/01/11 21:19:23 WARN CacheManager: Asked to cache already cached data.\n",
      "With 3 PCA components, Silhouette = 0.6687\n",
      "\n",
      "Finally, reduce to 2 PCA components and plot the clusters.\n",
      "25/01/11 21:19:31 WARN CacheManager: Asked to cache already cached data.\n"
     ]
    },
    {
     "data": {
      "image/png": "[encoded data removed]",
      "text/plain": [
       "<Figure size 576x432 with 2 Axes>"
      ]
     },
     "metadata": {
      "needs_background": "light"
     },
     "output_type": "display_data"
    }
   ],
   "source": [
    "best_k, best_score = find_optimal_clusters(df_fifa, selected_features, min_k=2, max_k=8)\n",
    "print(f\"Optimal k = {best_k}, best Silhouette = {best_score:.4f}\")\n",
    "\n",
    "print(\"\\nCreating a result table for that best k.\")\n",
    "res_df = cluster_and_report_top_10(df_fifa, selected_features, best_k, top_10_players, id_col=\"Name\")\n",
    "res_df.show()\n",
    "\n",
    "print(\"\\nApply PCA for 5, 4, 3 principal components & measure Silhouette each time.\")\n",
    "for pc in [5, 4, 3]:\n",
    "    # Filter out any rows missing those features\n",
    "    valid_df = df_fifa.na.drop(subset=selected_features)\n",
    "    _, pipe_output = build_feature_pipeline(valid_df, selected_features, best_k)\n",
    "    # Now pipe_output has 'scaledFeatures'\n",
    "    pca_output = apply_pca(pipe_output, \"scaledFeatures\", \"pcaFeatures\", pc)\n",
    "    # Re-run KMeans on pcaFeatures\n",
    "    kmeans = KMeans(k=best_k, featuresCol=\"pcaFeatures\", predictionCol=\"pcaClusterPrediction\", seed=42)\n",
    "    kmodel = kmeans.fit(pca_output)\n",
    "    final_clust = kmodel.transform(pca_output)\n",
    "\n",
    "    evaluator = ClusteringEvaluator(\n",
    "        predictionCol=\"pcaClusterPrediction\",\n",
    "        featuresCol=\"pcaFeatures\",\n",
    "        metricName=\"silhouette\"\n",
    "    )\n",
    "    sil_score = evaluator.evaluate(final_clust)\n",
    "    print(f\"With {pc} PCA components, Silhouette = {sil_score:.4f}\")\n",
    "\n",
    "print(\"\\nFinally, reduce to 2 PCA components and plot the clusters.\")\n",
    "valid_df = df_fifa.na.drop(subset=selected_features)\n",
    "_, pipe_output = build_feature_pipeline(valid_df, selected_features, best_k)\n",
    "pca_2d = apply_pca(pipe_output, \"scaledFeatures\", \"pcaFeatures\", 2)\n",
    "\n",
    "km2d = KMeans(k=best_k, featuresCol=\"pcaFeatures\", predictionCol=\"pcaClusterPrediction\", seed=42)\n",
    "km2d_model = km2d.fit(pca_2d)\n",
    "pca_2d_final = km2d_model.transform(pca_2d)\n",
    "\n",
    "plot_2d_clusters(\n",
    "    pca_2d_final,\n",
    "    x_col=\"pcaFeatures\",\n",
    "    cluster_col=\"pcaClusterPrediction\",\n",
    "    top_10_ids=top_10_players,\n",
    "    id_col=\"Name\"\n",
    ")\n",
    "\n",
    "spark.stop()\n"
   ]
  },
  {
   "cell_type": "code",
   "execution_count": null,
   "metadata": {},
   "outputs": [],
   "source": []
  }
 ],
 "metadata": {
  "colab": {
   "provenance": []
  },
  "kernelspec": {
   "display_name": "Python 3 (ipykernel)",
   "language": "python",
   "name": "python3"
  },
  "language_info": {
   "codemirror_mode": {
    "name": "ipython",
    "version": 3
   },
   "file_extension": ".py",
   "mimetype": "text/x-python",
   "name": "python",
   "nbconvert_exporter": "python",
   "pygments_lexer": "ipython3",
   "version": "3.9.12"
  }
 },
 "nbformat": 4,
 "nbformat_minor": 1
}
